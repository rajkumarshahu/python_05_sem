{
 "cells": [
  {
   "cell_type": "markdown",
   "metadata": {},
   "source": [
    "## Plotting basics\n",
    " - Use [this tutorial](https://matplotlib.org/users/pyplot_tutorial.html) as reference when (if) you get stuck\n",
    " - Execute the cells with imports, otherwise you won't have numpy and matplotlib imported and Python will complain"
   ]
  },
  {
   "cell_type": "code",
   "execution_count": 1,
   "metadata": {
    "collapsed": true
   },
   "outputs": [],
   "source": [
    "import numpy as np"
   ]
  },
  {
   "cell_type": "code",
   "execution_count": 2,
   "metadata": {
    "collapsed": true
   },
   "outputs": [],
   "source": [
    "import matplotlib.pyplot as plt\n",
    "%matplotlib inline"
   ]
  },
  {
   "cell_type": "code",
   "execution_count": 3,
   "metadata": {
    "collapsed": true
   },
   "outputs": [],
   "source": [
    "# Load weather data (take a look at that CSV file on GitHub or via Excel and note column names)\n",
    "weather = np.loadtxt(\"OshawaWeather2016.csv\", skiprows=1, delimiter=',')"
   ]
  },
  {
   "cell_type": "markdown",
   "metadata": {},
   "source": [
    "#### Crate separate 1D arrays for each column (e.g: day, maxt, mint and so on)"
   ]
  },
  {
   "cell_type": "code",
   "execution_count": 4,
   "metadata": {},
   "outputs": [
    {
     "data": {
      "text/plain": [
       "array([  0. ,   0. ,   0. ,   0. ,   0. ,   0. ,   0. ,   0. ,  29.8,\n",
       "        12.8,   3.5,   5. ,   2. ,   0.5,   9.4,   0. ,   0. ,   0. ,\n",
       "         0. ,   0. ,   0. ,   0. ,   0. ,   0. ,   1. ,   0.7,   1. ,\n",
       "         1. ,   0. ,   0. ,   5. ,   0. ,   9.6,   0. ,   0. ,   0.5,\n",
       "         0. ,   0. ,   0. ,   1. ,   0. ,   0. ,   0. ,   0. ,   0. ,\n",
       "         7. ,   5. ,   0. ,   0. ,   0. ,   0. ,   0. ,   0. ,  22. ,\n",
       "         0. ,   0. ,   0. ,   0. ,   0. ,   0. ,   0. ,   0. ,   0. ,\n",
       "         0.6,   8.4,   0. ,   9.8,   3.2,   4.2,   3.4,   3.1,   0. ,\n",
       "         0. ,   0. ,   0. ,   1.6,   0.6,   3.6,   0. ,   0. ,   9. ,\n",
       "         2.2,   0. ,   9.6,  24. ,   0.6,   0. ,   9. ,   0. ,   0. ,\n",
       "         9.4,   0. ,   0. ,   0. ,   8.8,   2.2,   0. ,   0. ,   0. ,\n",
       "         0. ,   0. ,   0. ,   0. ,   0. ,   0. ,   2.4,   0. ,   0. ,\n",
       "         5.6,   3.2,   2. ,   0. ,   0. ,   0. ,   1. ,   0. ,   0.6,\n",
       "         1.6,   0. ,   0. ,   0. ,   0.6,   2.6,   2. ,   0. ,   0. ,\n",
       "         0. ,   0. ,   0.6,   0. ,   0. ,   0.6,   0. ,   0. ,   0. ,\n",
       "         0. ,   0. ,   0. ,   0. ,   0. ,  10. ,   3. ,   4.6,   0. ,\n",
       "         0. ,   0. ,   8. ,   0. ,   0. ,   0. ,   0. ,   0. ,   0. ,\n",
       "         0. ,   0. ,   0. ,   0.6,   1.2,   0. ,   0. ,   0. ,   0. ,\n",
       "         3.8,   0. ,   0. ,   3. ,   0. ,   0. ,   0. ,   0. ,   0. ,\n",
       "         0. ,  35. ,   3.2,   0. ,   0. ,   0. ,   0.4,   0. ,   0. ,\n",
       "         0. ,   0. ,   0. ,   0. ,   0. ,   0. ,   0. ,   0. ,  18. ,\n",
       "         0. ,   0. ,  11.8,   1. ,   0. ,   0. ,   1.6,   0. ,   0. ,\n",
       "         0. ,   0. ,   6.6,   0. ,   0. ,   0. ,   0. ,   0. ,   0. ,\n",
       "         1.8,  26.8,   0. ,  20.4,   9. ,   0. ,   0. ,   0. ,  14. ,\n",
       "         0. ,   0. ,   0. ,   3.2,   4. ,   0. ,   0.6,   0. ,   0. ,\n",
       "         0. ,   0. ,   0. ,   0. ,   0. ,   0. ,   0. ,   0. ,  29. ,\n",
       "         0.4,   0. ,   7.6,   0. ,   0. ,   0. ,   0.4,   0. ,   3. ,\n",
       "         2.4,   0.5,   0. ,   0. ,   0. ,   0.4,   1. ,   0. ,   0. ,\n",
       "         9.4,   0. ,   0. ,   3.4,   0. ,   3.6,   3.4,   0. ,   0. ,\n",
       "         0. ,   0. ,   2. ,   0. ,   0. ,   0. ,   0. ,   0. ,   1. ,\n",
       "         0. ,   0.6,   4.6,   0.6,   4.8,   3. ,   6.2,   6. ,   0. ,\n",
       "         0. ,   0.8,   0. ,   2. ,   7.6,   0. ,   3.2,   0. ,   0. ,\n",
       "         0. ,  16.6,   0.4,   0. ,   0. ,   0. ,   0. ,   1.4,   0. ,\n",
       "         0. ,   0. ,   0. ,   0. ,   0. ,   0. ,   0. ,   0. ,   0. ,\n",
       "         1. ,   0. ,   0. ,   0. ,   2.8,   1.4,   2.6,   1.2,   0. ,\n",
       "         4.4,   0.2,  13. ,   0. ,   0.2,   0. ,   8.2,   0. ,   6.8,\n",
       "         0.6,   1. ,   0. ,   1. ,   9. ,   0. ,   0. ,   0. ,   7. ,\n",
       "         9. ,   1. ,   0. ,   0. ,   0. ,   1. ,   0. ,   0. ,   0. ,\n",
       "         1.4,  17.2,   0. ,   2. ,   0. ,   1. ,   0. ])"
      ]
     },
     "execution_count": 4,
     "metadata": {},
     "output_type": "execute_result"
    }
   ],
   "source": [
    "# your code here\n",
    "# day = weather[???]\n",
    "day = weather[:,0]\n",
    "day\n",
    "maxt = weather[:,1]\n",
    "maxt\n",
    "mint = weather[:,2]\n",
    "mint\n",
    "meant = weather[:,3]\n",
    "meant\n",
    "tot_prec = weather[:,4]\n",
    "tot_prec"
   ]
  },
  {
   "cell_type": "markdown",
   "metadata": {},
   "source": [
    "#### Plot the minimum temperature as a function of day number"
   ]
  },
  {
   "cell_type": "code",
   "execution_count": 5,
   "metadata": {},
   "outputs": [
    {
     "data": {
      "text/plain": [
       "[<matplotlib.lines.Line2D at 0x222cbdc0390>]"
      ]
     },
     "execution_count": 5,
     "metadata": {},
     "output_type": "execute_result"
    },
    {
     "data": {
      "image/png": "[encoded data removed]",
      "text/plain": [
       "<matplotlib.figure.Figure at 0x222cbe1bf60>"
      ]
     },
     "metadata": {},
     "output_type": "display_data"
    }
   ],
   "source": [
    "plt.plot(day, mint, 'g')"
   ]
  },
  {
   "cell_type": "markdown",
   "metadata": {},
   "source": [
    "#### Plot the max temperature in degrees Fahrenheit"
   ]
  },
  {
   "cell_type": "code",
   "execution_count": 6,
   "metadata": {},
   "outputs": [
    {
     "data": {
      "text/plain": [
       "<matplotlib.text.Text at 0x222cbe0d208>"
      ]
     },
     "execution_count": 6,
     "metadata": {},
     "output_type": "execute_result"
    },
    {
     "data": {
      "image/png": "[encoded data removed]",
      "text/plain": [
       "<matplotlib.figure.Figure at 0x222cbdc0ef0>"
      ]
     },
     "metadata": {},
     "output_type": "display_data"
    }
   ],
   "source": [
    "plt.plot(day, maxt, 'r.')\n",
    "plt.ylabel(\"Day\")\n",
    "plt.xlabel(\"Max Temp.\")"
   ]
  },
  {
   "cell_type": "markdown",
   "metadata": {},
   "source": [
    "#### Plot the difference between the maximum and the minimum day temperature as a function of day number"
   ]
  },
  {
   "cell_type": "code",
   "execution_count": 7,
   "metadata": {},
   "outputs": [
    {
     "data": {
      "text/plain": [
       "[<matplotlib.lines.Line2D at 0x222cbcc5748>]"
      ]
     },
     "execution_count": 7,
     "metadata": {},
     "output_type": "execute_result"
    },
    {
     "data": {
      "image/png": "[encoded data removed]",
      "text/plain": [
       "<matplotlib.figure.Figure at 0x222cbebbfd0>"
      ]
     },
     "metadata": {},
     "output_type": "display_data"
    }
   ],
   "source": [
    "plt.plot(weather[:,0], weather[:,1] - weather[:,2], 'p')"
   ]
  },
  {
   "cell_type": "markdown",
   "metadata": {},
   "source": [
    "#### Plot both, the minimum and maximum temperature on the same figure"
   ]
  },
  {
   "cell_type": "code",
   "execution_count": 8,
   "metadata": {},
   "outputs": [
    {
     "data": {
      "text/plain": [
       "[<matplotlib.lines.Line2D at 0x222cbe98a90>,\n",
       " <matplotlib.lines.Line2D at 0x222cbe98c50>]"
      ]
     },
     "execution_count": 8,
     "metadata": {},
     "output_type": "execute_result"
    },
    {
     "data": {
      "image/png": "[encoded data removed]",
      "text/plain": [
       "<matplotlib.figure.Figure at 0x222cbec4710>"
      ]
     },
     "metadata": {},
     "output_type": "display_data"
    }
   ],
   "source": [
    "plt.plot(mint)+plt.plot(maxt)"
   ]
  },
  {
   "cell_type": "markdown",
   "metadata": {},
   "source": [
    "#### Add axis labels and a legend to the plot above\n",
    "Use the following functions:\n",
    " - plt.xlabel\n",
    " - plt.ylabel\n",
    " - plt.title\n",
    " - plt.legend"
   ]
  },
  {
   "cell_type": "markdown",
   "metadata": {},
   "source": [
    "#### Plot the precipitation as a function of max temperature\n",
    "You probably don't want a line connecting the dots.\n",
    "Are there any patterns you can spot?"
   ]
  },
  {
   "cell_type": "code",
   "execution_count": null,
   "metadata": {
    "collapsed": true
   },
   "outputs": [],
   "source": []
  },
  {
   "cell_type": "markdown",
   "metadata": {},
   "source": [
    "#### Plot the precipitation as a function of (t_max - t_min)"
   ]
  },
  {
   "cell_type": "code",
   "execution_count": 9,
   "metadata": {},
   "outputs": [
    {
     "data": {
      "text/plain": [
       "[<matplotlib.lines.Line2D at 0x222cc2c8518>]"
      ]
     },
     "execution_count": 9,
     "metadata": {},
     "output_type": "execute_result"
    },
    {
     "data": {
      "image/png": "[encoded data removed]",
      "text/plain": [
       "<matplotlib.figure.Figure at 0x222cbf1e048>"
      ]
     },
     "metadata": {},
     "output_type": "display_data"
    }
   ],
   "source": [
    "plt.plot( maxt - mint, tot_prec, '.')"
   ]
  },
  {
   "cell_type": "markdown",
   "metadata": {},
   "source": [
    "#### Read about plt.hist() function and plot a histogram of the maximum temperatures"
   ]
  },
  {
   "cell_type": "code",
   "execution_count": 10,
   "metadata": {
    "collapsed": true
   },
   "outputs": [],
   "source": [
    "%matplotlib inline\n",
    "import seaborn; seaborn.set()"
   ]
  },
  {
   "cell_type": "markdown",
   "metadata": {},
   "source": [
    "#### Plot a histogram of the differences between the min and max temperature"
   ]
  },
  {
   "cell_type": "code",
   "execution_count": 11,
   "metadata": {},
   "outputs": [
    {
     "data": {
      "text/plain": [
       "<matplotlib.text.Text at 0x222cf280438>"
      ]
     },
     "execution_count": 11,
     "metadata": {},
     "output_type": "execute_result"
    },
    {
     "data": {
      "image/png": "[encoded data removed]",
      "text/plain": [
       "<matplotlib.figure.Figure at 0x222cf291518>"
      ]
     },
     "metadata": {},
     "output_type": "display_data"
    }
   ],
   "source": [
    "plt.hist(maxt - mint)\n",
    "plt.title('The differences between the min and max temperature')\n",
    "plt.ylabel('Maximum Temperature')\n",
    "plt.xlabel('Minimum Temperature')"
   ]
  },
  {
   "cell_type": "markdown",
   "metadata": {},
   "source": [
    "#### For each day calculate the average of the 3 temperatures in the data (min max and avg)\n"
   ]
  },
  {
   "cell_type": "code",
   "execution_count": 12,
   "metadata": {},
   "outputs": [
    {
     "data": {
      "text/plain": [
       "array([ -1.        ,  -1.        ,   0.        ,   0.        ,\n",
       "        -8.5       ,  -2.26666667,  -1.        ,   1.5       ,\n",
       "         4.5       ,   6.        ,  -4.76666667,  -4.5       ,\n",
       "        -8.        ,  -4.26666667,   0.5       ,   1.76666667,\n",
       "        -1.5       ,  -9.5       ,  -9.        ,  -3.76666667,\n",
       "        -4.5       ,  -6.        ,  -8.5       ,  -5.        ,\n",
       "         1.76666667,   4.        ,  -0.5       ,   0.5       ,\n",
       "        -4.5       ,  -1.5       ,   3.        ,   5.5       ,\n",
       "         3.26666667,   6.26666667,   2.76666667,  -1.26666667,\n",
       "         1.26666667,   1.        ,   1.5       ,  -2.        ,\n",
       "        -3.        ,  -5.5       ,  -8.        , -22.5       ,\n",
       "       -14.5       ,  -7.        ,  -2.5       ,  -9.5       ,\n",
       "        -1.76666667,   7.5       ,   4.5       ,  -2.26666667,\n",
       "        -3.        ,   0.26666667,   0.        ,   5.76666667,\n",
       "        -7.76666667,  -8.26666667,  -4.26666667,  -1.5       ,\n",
       "         2.26666667,   5.26666667,   5.5       ,   8.        ,\n",
       "         9.5       ,   4.5       ,   4.5       ,   6.26666667,\n",
       "         8.        ,   7.5       ,   4.26666667,   4.26666667,\n",
       "        -3.26666667,  -2.26666667,  -0.5       ,  -0.76666667,\n",
       "         3.5       ,   0.        ,  -1.        ,  -1.26666667,\n",
       "         4.        ,   6.5       ,   3.        ,   2.26666667,\n",
       "         9.        ,   9.26666667,   2.        ,  -4.        ,\n",
       "        -3.        ,  -4.        ,   2.26666667,   4.26666667,\n",
       "         0.        ,  -2.26666667,  -2.        ,   3.5       ,\n",
       "         4.        ,   0.76666667,   4.76666667,   7.76666667,\n",
       "         8.        ,  10.26666667,  12.5       ,  11.        ,\n",
       "         7.        ,   8.5       ,  12.76666667,  10.5       ,\n",
       "         4.26666667,   7.        ,   8.5       ,   8.76666667,\n",
       "         6.76666667,   8.76666667,  13.5       ,  11.76666667,\n",
       "        12.5       ,   8.76666667,   7.5       ,  10.26666667,\n",
       "        11.76666667,  13.5       ,  16.5       ,  11.        ,\n",
       "         5.5       ,   9.5       ,  15.76666667,  17.76666667,\n",
       "        17.5       ,  17.5       ,  18.26666667,  18.5       ,\n",
       "        20.76666667,  20.5       ,  22.        ,  22.5       ,\n",
       "        19.5       ,  14.76666667,  19.26666667,  18.76666667,\n",
       "        18.26666667,  18.26666667,  19.        ,  16.76666667,\n",
       "        12.76666667,  13.5       ,  14.        ,  20.76666667,\n",
       "        17.26666667,  15.5       ,  13.76666667,  16.26666667,\n",
       "        21.        ,  21.26666667,  20.        ,  21.5       ,\n",
       "        23.76666667,  19.        ,  19.5       ,  16.5       ,\n",
       "        18.        ,  19.5       ,  22.        ,  25.26666667,\n",
       "        21.        ,  17.5       ,  19.        ,  17.76666667,\n",
       "        19.5       ,  22.5       ,  22.5       ,  25.        ,\n",
       "        23.76666667,  23.        ,  21.76666667,  20.5       ,\n",
       "        22.        ,  24.26666667,  23.5       ,  21.5       ,\n",
       "        18.        ,  18.5       ,  25.76666667,  20.        ,\n",
       "        18.        ,  21.5       ,  28.5       ,  26.76666667,\n",
       "        23.        ,  26.        ,  22.76666667,  22.5       ,\n",
       "        24.        ,  22.5       ,  21.5       ,  22.5       ,\n",
       "        23.        ,  21.76666667,  21.76666667,  23.5       ,\n",
       "        26.76666667,  24.26666667,  22.26666667,  22.76666667,\n",
       "        21.76666667,  26.        ,  25.5       ,  28.26666667,\n",
       "        24.26666667,  24.26666667,  20.5       ,  24.        ,\n",
       "        19.5       ,  23.76666667,  21.5       ,  24.76666667,\n",
       "        24.5       ,  18.        ,  18.5       ,  21.        ,\n",
       "        25.        ,  23.26666667,  20.26666667,  26.        ,\n",
       "        21.5       ,  21.        ,  23.76666667,  18.5       ,\n",
       "        19.        ,  17.5       ,  17.        ,  19.5       ,\n",
       "        22.        ,  25.        ,  26.        ,  23.26666667,\n",
       "        22.5       ,  19.76666667,  16.26666667,  19.26666667,\n",
       "        19.        ,  14.26666667,  15.76666667,  19.        ,\n",
       "        20.5       ,  19.26666667,  21.26666667,  18.26666667,\n",
       "        19.76666667,  15.26666667,  13.76666667,  11.5       ,\n",
       "        14.26666667,  14.26666667,  17.        ,  15.5       ,\n",
       "        16.76666667,  16.26666667,  17.76666667,  16.5       ,\n",
       "        16.26666667,  16.        ,  17.26666667,  17.        ,\n",
       "        17.        ,  10.        ,   6.76666667,  10.        ,\n",
       "        12.5       ,  15.5       ,   9.5       ,  12.        ,\n",
       "        17.26666667,  17.        ,  18.26666667,  14.5       ,\n",
       "        13.        ,   9.5       ,   6.5       ,   8.76666667,\n",
       "         7.5       ,   5.5       ,   1.76666667,   3.26666667,\n",
       "         7.        ,  12.26666667,   7.5       ,   4.        ,\n",
       "         8.        ,  15.        ,  11.76666667,   7.26666667,\n",
       "        10.26666667,   7.        ,   7.76666667,   8.26666667,\n",
       "         7.5       ,   9.        ,   5.76666667,   2.76666667,\n",
       "         6.5       ,   8.5       ,   5.5       ,   7.        ,\n",
       "         6.        ,   9.5       ,   9.5       ,   0.        ,\n",
       "        -0.26666667,   0.76666667,  -2.26666667,   1.26666667,\n",
       "         4.5       ,   6.        ,   5.        ,   5.26666667,\n",
       "         9.26666667,   7.        ,   6.        ,   4.        ,\n",
       "         2.5       ,  -0.5       ,   3.        ,   1.76666667,\n",
       "         3.        ,   0.5       ,  -4.        ,  -4.        ,\n",
       "        -2.5       ,   1.        ,  -0.5       ,  -5.76666667,\n",
       "        -9.76666667,  -8.26666667,  -3.26666667,  -3.76666667,\n",
       "        -7.26666667,  -3.5       ,  -0.26666667,   1.76666667,\n",
       "         1.26666667,   3.        ,   1.        ,   1.5       ,\n",
       "         1.        ,  -0.5       ,   1.        ,  -0.5       ,   0.76666667])"
      ]
     },
     "execution_count": 12,
     "metadata": {},
     "output_type": "execute_result"
    }
   ],
   "source": [
    "avg_temperature = (maxt + mint + meant)/3\n",
    "avg_temperature"
   ]
  },
  {
   "cell_type": "markdown",
   "metadata": {},
   "source": [
    "#### Calculate the total amount of precipitation for the whole year\n",
    "Does the number seem reasonable? The annual average precipitation in Toronto is 831 mm according to https://en.wikipedia.org/wiki/Geography_of_Toronto"
   ]
  },
  {
   "cell_type": "code",
   "execution_count": 25,
   "metadata": {},
   "outputs": [
    {
     "data": {
      "text/plain": [
       "662.79999999999995"
      ]
     },
     "execution_count": 25,
     "metadata": {},
     "output_type": "execute_result"
    }
   ],
   "source": [
    "sum(tot_prec)"
   ]
  },
  {
   "cell_type": "markdown",
   "metadata": {},
   "source": [
    "#### Calculate the total precipitation on all odd numbered days (day 1, 3, 5 and so on)"
   ]
  },
  {
   "cell_type": "code",
   "execution_count": 96,
   "metadata": {},
   "outputs": [],
   "source": [
    "k = day \n",
    "v = tot_prec\n",
    "dictionary = dict(zip(keys, values))"
   ]
  },
  {
   "cell_type": "code",
   "execution_count": 111,
   "metadata": {},
   "outputs": [
    {
     "name": "stdout",
     "output_type": "stream",
     "text": [
      "(1.0, 0.0)\n",
      "(3.0, 0.0)\n",
      "(5.0, 0.0)\n",
      "(7.0, 0.0)\n",
      "(9.0, 12.800000000000001)\n",
      "(11.0, 5.0)\n",
      "(13.0, 0.5)\n",
      "(15.0, 0.0)\n",
      "(17.0, 0.0)\n",
      "(19.0, 0.0)\n",
      "(21.0, 0.0)\n",
      "(23.0, 0.0)\n",
      "(25.0, 0.69999999999999996)\n",
      "(27.0, 1.0)\n",
      "(29.0, 0.0)\n",
      "(31.0, 0.0)\n",
      "(33.0, 0.0)\n",
      "(35.0, 0.5)\n",
      "(37.0, 0.0)\n",
      "(39.0, 1.0)\n",
      "(41.0, 0.0)\n",
      "(43.0, 0.0)\n",
      "(45.0, 7.0)\n",
      "(49.0, 0.0)\n",
      "(51.0, 0.0)\n",
      "(53.0, 0.0)\n",
      "(57.0, 0.0)\n",
      "(61.0, 0.0)\n",
      "(63.0, 0.0)\n",
      "(65.0, 0.0)\n",
      "(67.0, 0.0)\n",
      "(69.0, 8.4000000000000004)\n",
      "(73.0, 3.2000000000000002)\n",
      "(75.0, 3.3999999999999999)\n",
      "(77.0, 0.0)\n",
      "(79.0, 0.0)\n",
      "(81.0, 1.6000000000000001)\n",
      "(83.0, 3.6000000000000001)\n",
      "(85.0, 0.0)\n",
      "(87.0, 2.2000000000000002)\n",
      "(89.0, 9.5999999999999996)\n",
      "(91.0, 0.59999999999999998)\n",
      "(93.0, 9.0)\n",
      "(95.0, 0.0)\n",
      "(97.0, 0.0)\n",
      "(99.0, 0.0)\n",
      "(101.0, 2.2000000000000002)\n",
      "(103.0, 0.0)\n",
      "(105.0, 0.0)\n",
      "(107.0, 0.0)\n",
      "(109.0, 0.0)\n",
      "(111.0, 2.3999999999999999)\n",
      "(113.0, 0.0)\n",
      "(121.0, 2.0)\n",
      "(123.0, 0.0)\n",
      "(125.0, 1.0)\n",
      "(127.0, 0.59999999999999998)\n",
      "(129.0, 0.0)\n",
      "(131.0, 0.0)\n",
      "(133.0, 2.6000000000000001)\n",
      "(135.0, 0.0)\n",
      "(137.0, 0.0)\n",
      "(141.0, 0.0)\n",
      "(143.0, 0.59999999999999998)\n",
      "(145.0, 0.0)\n",
      "(147.0, 0.0)\n",
      "(149.0, 0.0)\n",
      "(151.0, 0.0)\n",
      "(153.0, 0.0)\n",
      "(155.0, 10.0)\n",
      "(157.0, 4.5999999999999996)\n",
      "(159.0, 0.0)\n",
      "(161.0, 8.0)\n",
      "(163.0, 0.0)\n",
      "(165.0, 0.0)\n",
      "(167.0, 0.0)\n",
      "(169.0, 0.0)\n",
      "(171.0, 0.59999999999999998)\n",
      "(173.0, 0.0)\n",
      "(175.0, 0.0)\n",
      "(177.0, 3.7999999999999998)\n",
      "(179.0, 0.0)\n",
      "(183.0, 0.0)\n",
      "(185.0, 0.0)\n",
      "(187.0, 0.0)\n",
      "(189.0, 35.0)\n",
      "(191.0, 0.0)\n",
      "(193.0, 0.0)\n",
      "(195.0, 0.0)\n",
      "(197.0, 0.0)\n",
      "(199.0, 0.0)\n",
      "(201.0, 0.0)\n",
      "(203.0, 0.0)\n",
      "(205.0, 18.0)\n",
      "(207.0, 0.0)\n",
      "(209.0, 1.0)\n",
      "(211.0, 0.0)\n",
      "(213.0, 0.0)\n",
      "(215.0, 0.0)\n",
      "(217.0, 6.5999999999999996)\n",
      "(219.0, 0.0)\n",
      "(221.0, 0.0)\n",
      "(223.0, 0.0)\n",
      "(225.0, 26.800000000000001)\n",
      "(227.0, 20.399999999999999)\n",
      "(229.0, 0.0)\n",
      "(231.0, 0.0)\n",
      "(233.0, 0.0)\n",
      "(235.0, 0.0)\n",
      "(237.0, 4.0)\n",
      "(239.0, 0.59999999999999998)\n",
      "(241.0, 0.0)\n",
      "(243.0, 0.0)\n",
      "(245.0, 0.0)\n",
      "(247.0, 0.0)\n",
      "(249.0, 0.0)\n",
      "(251.0, 0.40000000000000002)\n",
      "(253.0, 7.5999999999999996)\n",
      "(255.0, 0.0)\n",
      "(257.0, 0.40000000000000002)\n",
      "(259.0, 3.0)\n",
      "(261.0, 0.5)\n",
      "(263.0, 0.0)\n",
      "(265.0, 0.40000000000000002)\n",
      "(267.0, 0.0)\n",
      "(269.0, 9.4000000000000004)\n",
      "(271.0, 0.0)\n",
      "(273.0, 0.0)\n",
      "(275.0, 3.3999999999999999)\n",
      "(277.0, 0.0)\n",
      "(279.0, 0.0)\n",
      "(281.0, 0.0)\n",
      "(283.0, 0.0)\n",
      "(285.0, 0.0)\n",
      "(287.0, 0.0)\n",
      "(289.0, 4.5999999999999996)\n",
      "(291.0, 4.7999999999999998)\n",
      "(293.0, 6.2000000000000002)\n",
      "(295.0, 0.0)\n",
      "(297.0, 0.80000000000000004)\n",
      "(299.0, 2.0)\n",
      "(301.0, 0.0)\n",
      "(303.0, 0.0)\n",
      "(305.0, 0.0)\n",
      "(307.0, 0.40000000000000002)\n",
      "(309.0, 0.0)\n",
      "(311.0, 0.0)\n",
      "(313.0, 0.0)\n",
      "(315.0, 0.0)\n",
      "(317.0, 0.0)\n",
      "(319.0, 0.0)\n",
      "(321.0, 0.0)\n",
      "(323.0, 1.0)\n",
      "(325.0, 0.0)\n",
      "(327.0, 2.7999999999999998)\n",
      "(329.0, 2.6000000000000001)\n",
      "(331.0, 0.0)\n",
      "(333.0, 0.20000000000000001)\n",
      "(335.0, 0.0)\n",
      "(337.0, 0.0)\n",
      "(339.0, 0.0)\n",
      "(341.0, 0.59999999999999998)\n",
      "(343.0, 0.0)\n",
      "(345.0, 9.0)\n",
      "(347.0, 0.0)\n",
      "(349.0, 7.0)\n",
      "(351.0, 1.0)\n",
      "(353.0, 0.0)\n",
      "(355.0, 1.0)\n",
      "(357.0, 0.0)\n",
      "(359.0, 1.3999999999999999)\n",
      "(361.0, 0.0)\n",
      "(363.0, 0.0)\n",
      "(365.0, 0.0)\n"
     ]
    }
   ],
   "source": [
    "for k, v in dictionary.items():\n",
    "    odd_temp = {}\n",
    "    if k%2 == 1:\n",
    "        print((k, v))"
   ]
  },
  {
   "cell_type": "code",
   "execution_count": null,
   "metadata": {
    "collapsed": true
   },
   "outputs": [],
   "source": []
  }
 ],
 "metadata": {
  "kernelspec": {
   "display_name": "Python 3",
   "language": "python",
   "name": "python3"
  },
  "language_info": {
   "codemirror_mode": {
    "name": "ipython",
    "version": 3
   },
   "file_extension": ".py",
   "mimetype": "text/x-python",
   "name": "python",
   "nbconvert_exporter": "python",
   "pygments_lexer": "ipython3",
   "version": "3.6.2"
  }
 },
 "nbformat": 4,
 "nbformat_minor": 2
}
