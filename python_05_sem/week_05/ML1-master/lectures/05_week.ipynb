{
 "cells": [
  {
   "cell_type": "code",
   "execution_count": 1,
   "metadata": {
    "slideshow": {
     "slide_type": "skip"
    }
   },
   "outputs": [],
   "source": [
    "import numpy as np\n",
    "import matplotlib.pyplot as plt\n",
    "import pandas as pd\n",
    "import seaborn as sns\n",
    "%matplotlib inline"
   ]
  },
  {
   "cell_type": "markdown",
   "metadata": {
    "slideshow": {
     "slide_type": "skip"
    }
   },
   "source": [
    "Notes:\n",
    " * recap about canlendars and time and what you actully need to know about it all\n",
    " * "
   ]
  },
  {
   "cell_type": "markdown",
   "metadata": {
    "slideshow": {
     "slide_type": "slide"
    }
   },
   "source": [
    "## COMP 3122 - Artificial Intelligence with Python\n",
    "__Week 5 lecture__\n",
    "\n",
    "### [github.com/kamrik/ML1](https://github.com/kamrik/ML1)\n",
    "\n",
    "### [slido.com/COMP3122](http://slido.com/COMP3122)"
   ]
  },
  {
   "cell_type": "markdown",
   "metadata": {
    "slideshow": {
     "slide_type": "slide"
    }
   },
   "source": [
    "## Recap of previous material"
   ]
  },
  {
   "cell_type": "markdown",
   "metadata": {
    "slideshow": {
     "slide_type": "slide"
    }
   },
   "source": [
    "## Calendars\n",
    " * I forgot to metion why Pope Gregory XIII decided to reform the calendar   \n",
    " * The Equinox was slowly drifting away from its' nominal date - about 3/4 of a day per century\n",
    " * Common people probably didn't care much about this, but the church was quite obsessed with precision when it comes to computing the date of the Easter\n",
    " * The new rules for leap years were designed to prevent further drift and the 10 day jump to deal with the already accumulated drift"
   ]
  },
  {
   "cell_type": "markdown",
   "metadata": {
    "slideshow": {
     "slide_type": "slide"
    }
   },
   "source": [
    "## Calendars - what you need to know\n",
    " - Our modern calendar is called Gregorian\n",
    " - Most countries used some variant of the Julian calendar before the Gregorian and switched gradually over a long period of several centuries - therefore the same day could have different \"names\" in different places."
   ]
  },
  {
   "cell_type": "markdown",
   "metadata": {
    "slideshow": {
     "slide_type": "slide"
    }
   },
   "source": [
    "## Time\n",
    " * Our wall clock is **not monotonic** - it can go back when switching to winter time.\n",
    "   * This can result in unexpected negative time intervals\n",
    "   * We switch to winter clock on Sunday, November 4 this year\n",
    " \n"
   ]
  },
  {
   "cell_type": "markdown",
   "metadata": {
    "slideshow": {
     "slide_type": "slide"
    }
   },
   "source": [
    "## Unix time - single number, monotonic\n",
    " * Number of seconds elapsed since 1970-01-01 00:00:00 UTC (approximately, up to leap seconds)\n",
    " * Also known as POSIX time or UNIX Epoch time - [see Wikipedia](https://en.wikipedia.org/wiki/Unix_time)"
   ]
  },
  {
   "cell_type": "code",
   "execution_count": 6,
   "metadata": {},
   "outputs": [
    {
     "data": {
      "text/plain": [
       "1538418707.231928"
      ]
     },
     "execution_count": 6,
     "metadata": {},
     "output_type": "execute_result"
    }
   ],
   "source": [
    "import time\n",
    "time.time()"
   ]
  },
  {
   "cell_type": "markdown",
   "metadata": {
    "slideshow": {
     "slide_type": "slide"
    }
   },
   "source": [
    "## When in doubt, use UTC\n",
    " * And [ISO 8601](https://en.wikipedia.org/wiki/ISO_8601) to represent it as text"
   ]
  },
  {
   "cell_type": "code",
   "execution_count": 23,
   "metadata": {},
   "outputs": [
    {
     "data": {
      "text/plain": [
       "Timestamp('2018-10-01 20:25:23.916637+0000', tz='UTC')"
      ]
     },
     "execution_count": 23,
     "metadata": {},
     "output_type": "execute_result"
    }
   ],
   "source": [
    "pd.Timestamp.utcnow()\n"
   ]
  },
  {
   "cell_type": "markdown",
   "metadata": {
    "slideshow": {
     "slide_type": "slide"
    }
   },
   "source": [
    "## Datetime in Pandas\n",
    " * `pd.to_datetime()`\n",
    " * `pd.to_timedelta()`\n",
    " * `pd.reads_csv(..., parse_dates=['Column1', 'Column2'])`\n",
    " * Good detailed description of datetime in Pandas in [book section 3.11](https://jakevdp.github.io/PythonDataScienceHandbook/03.11-working-with-time-series.html)\n"
   ]
  },
  {
   "cell_type": "code",
   "execution_count": 24,
   "metadata": {
    "slideshow": {
     "slide_type": "slide"
    }
   },
   "outputs": [
    {
     "data": {
      "text/plain": [
       "Timestamp('2018-10-01 14:05:00')"
      ]
     },
     "execution_count": 24,
     "metadata": {},
     "output_type": "execute_result"
    }
   ],
   "source": [
    "t = pd.to_datetime('14:05')\n",
    "t"
   ]
  },
  {
   "cell_type": "code",
   "execution_count": 21,
   "metadata": {},
   "outputs": [
    {
     "data": {
      "text/plain": [
       "False"
      ]
     },
     "execution_count": 21,
     "metadata": {},
     "output_type": "execute_result"
    }
   ],
   "source": [
    "# lots of useful props and fucntions...\n",
    "t.is_leap_year"
   ]
  },
  {
   "cell_type": "markdown",
   "metadata": {},
   "source": [
    "## More info about datetime in Pandas\n",
    " * Examples of using datetime - Video 25 of the video series\n",
    " * Good detailed description of datetime in Pandas in [book section 3.11](https://jakevdp.github.io/PythonDataScienceHandbook/03.11-working-with-time-series.html)"
   ]
  },
  {
   "cell_type": "markdown",
   "metadata": {
    "slideshow": {
     "slide_type": "slide"
    }
   },
   "source": [
    "## Seaborn plotting library - overview and concepts"
   ]
  },
  {
   "cell_type": "code",
   "execution_count": null,
   "metadata": {},
   "outputs": [],
   "source": []
  },
  {
   "cell_type": "code",
   "execution_count": null,
   "metadata": {},
   "outputs": [],
   "source": []
  },
  {
   "cell_type": "code",
   "execution_count": null,
   "metadata": {},
   "outputs": [],
   "source": []
  },
  {
   "cell_type": "code",
   "execution_count": null,
   "metadata": {},
   "outputs": [],
   "source": []
  },
  {
   "cell_type": "markdown",
   "metadata": {
    "slideshow": {
     "slide_type": "slide"
    }
   },
   "source": [
    "## Histograms and distributions"
   ]
  },
  {
   "cell_type": "code",
   "execution_count": null,
   "metadata": {},
   "outputs": [],
   "source": []
  }
 ],
 "metadata": {
  "celltoolbar": "Slideshow",
  "kernelspec": {
   "display_name": "Python 3",
   "language": "python",
   "name": "python3"
  },
  "language_info": {
   "codemirror_mode": {
    "name": "ipython",
    "version": 3
   },
   "file_extension": ".py",
   "mimetype": "text/x-python",
   "name": "python",
   "nbconvert_exporter": "python",
   "pygments_lexer": "ipython3",
   "version": "3.6.5"
  }
 },
 "nbformat": 4,
 "nbformat_minor": 2
}
